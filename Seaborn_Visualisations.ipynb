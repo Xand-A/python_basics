{
 "cells": [
  {
   "cell_type": "markdown",
   "id": "b35400d9-8f6a-4c57-bfde-5d825e2dbe00",
   "metadata": {},
   "source": [
    "# Seaborn"
   ]
  },
  {
   "cell_type": "code",
   "execution_count": 2,
   "id": "854690fb-5e30-4aa6-ad70-6d9d5002d431",
   "metadata": {},
   "outputs": [],
   "source": [
    "# Getting started\n",
    "import seaborn as sns\n",
    "import matplotlib.pyplot as plt"
   ]
  },
  {
   "cell_type": "markdown",
   "id": "f1da44b8-b418-4434-9afa-44d9a559269f",
   "metadata": {},
   "source": [
    "## Relplot"
   ]
  },
  {
   "cell_type": "markdown",
   "id": "e37dd4ff-575a-4d25-a4f0-595ba6a45a73",
   "metadata": {},
   "source": [
    "Used for *__Scatter__ and __Line__*"
   ]
  },
  {
   "cell_type": "markdown",
   "id": "32fba040-7c09-46bb-9c51-7bc8bcea6afb",
   "metadata": {},
   "source": [
    "## Scatter"
   ]
  },
  {
   "cell_type": "code",
   "execution_count": null,
   "id": "f235dfec-d945-42b2-9d4c-c6c6c2494d8c",
   "metadata": {},
   "outputs": [],
   "source": [
    "sns.relplot(x=\"x_col\",\n",
    "            y=\"y_col\",\n",
    "            data=df,\n",
    "            kind=\"scatter\")\n",
    "plt.show()"
   ]
  },
  {
   "cell_type": "code",
   "execution_count": null,
   "id": "4a35ff2e-f04a-434b-abf4-2100a16fef79",
   "metadata": {},
   "outputs": [],
   "source": [
    "# If wanting to plot 3 variables e.g. Smoker = Y / N use the row or col argument to create subplots\n",
    "# It is possible to do both at once \n",
    "sns.relplot(x=\"x_col\",\n",
    "            y=\"y_col\",\n",
    "            data=df,\n",
    "            kind=\"scatter\",\n",
    "           col=\"smoker\",\n",
    "           row = \"time\")\n",
    "plt.show()"
   ]
  },
  {
   "cell_type": "code",
   "execution_count": null,
   "id": "0ab74580-bfbc-48e2-add7-65d78b6ac91b",
   "metadata": {},
   "outputs": [],
   "source": [
    "# If multiple variables use col_wrap to specify how many columns\n",
    "# use col_order to specify order of categorical cols\n",
    "sns.relplot(x=\"x_col\",\n",
    "            y=\"y_col\",\n",
    "            data=df,\n",
    "            kind=\"scatter\",\n",
    "           col=\"smoker\",\n",
    "           col_wrap=2,\n",
    "           col_order=[\"Thur\",\"Fri\",\"Sat\",\"Sun\"])\n",
    "plt.show()"
   ]
  },
  {
   "cell_type": "markdown",
   "id": "bbd3ac00-f9b4-4bfe-9428-b4ad83b40adc",
   "metadata": {},
   "source": [
    "## Customising Relplots"
   ]
  },
  {
   "cell_type": "code",
   "execution_count": null,
   "id": "01fb03ae-a7e4-46a6-9e14-330cd7710a8d",
   "metadata": {},
   "outputs": [],
   "source": [
    "#To change the size of scatter points use the size function\n",
    "size=\"size\""
   ]
  },
  {
   "cell_type": "code",
   "execution_count": null,
   "id": "b72b8db1-ebb7-4291-928b-30ff030c4688",
   "metadata": {},
   "outputs": [],
   "source": [
    "#To change the colour of scatter points use the hue function - this can refer to a column to categorise \n",
    "hue=\"size\""
   ]
  },
  {
   "cell_type": "code",
   "execution_count": null,
   "id": "fb6d4ea6-aa93-4c7c-b06c-23ba5a470a80",
   "metadata": {},
   "outputs": [],
   "source": [
    "# Style changes scatter points to x's +'s etc\n",
    "style=\"smoker\""
   ]
  },
  {
   "cell_type": "code",
   "execution_count": null,
   "id": "a7fbfe2c-2e31-4502-a546-a336396704cb",
   "metadata": {},
   "outputs": [],
   "source": [
    "# Amend the transparency of the data\n",
    "alpha=0.4"
   ]
  },
  {
   "cell_type": "markdown",
   "id": "04d7e8ae-af60-47d9-ba86-d98dad188ff0",
   "metadata": {},
   "source": [
    "## Line"
   ]
  },
  {
   "cell_type": "code",
   "execution_count": null,
   "id": "27527660-895e-46da-84a8-241720f2ae23",
   "metadata": {},
   "outputs": [],
   "source": [
    "# Similar to scatter - but replacing kind with Line\n",
    "# Can add markers to each line with the Markers = True\n",
    "sns.relplot(x=\"x_col\",\n",
    "            y=\"y_col\",\n",
    "            data=df,\n",
    "            kind=\"line\",\n",
    "           style=\"x2\",\n",
    "           hue='x2',\n",
    "           markers = True)\n",
    "plt.show()"
   ]
  },
  {
   "cell_type": "code",
   "execution_count": null,
   "id": "ad7531cb-5b01-4641-902a-a07fdef27b8e",
   "metadata": {},
   "outputs": [],
   "source": [
    "# turn off line style with:\n",
    "dashes=False"
   ]
  },
  {
   "cell_type": "code",
   "execution_count": null,
   "id": "6acfa264-f9fd-4d3f-9944-1f6e5759bfef",
   "metadata": {},
   "outputs": [],
   "source": [
    "# if multiple observations per x-value will show a confidence interval (95% confident that mean is within the interval)\n",
    "# Replace confidence interval with standard deviation\n",
    "ci = 'sd'\n",
    "#Turn off confidence interval \n",
    "ci = 'None'"
   ]
  },
  {
   "cell_type": "markdown",
   "id": "9c3e39d6-b3be-4c9a-8a8c-695b1bea0c9b",
   "metadata": {},
   "source": [
    "# Visualizing a Categorical and a Quantitative Variable"
   ]
  },
  {
   "cell_type": "code",
   "execution_count": null,
   "id": "72cfcc64-5312-4e39-be10-408a5eafd6cd",
   "metadata": {},
   "outputs": [],
   "source": [
    "# similar to relplot - sns.catplot() is used for count, bar, box, point etc "
   ]
  },
  {
   "cell_type": "markdown",
   "id": "524b973e-d85a-4511-9cc9-ef3115e3157f",
   "metadata": {},
   "source": [
    "### Count and Bar plots"
   ]
  },
  {
   "cell_type": "code",
   "execution_count": null,
   "id": "cb839670-ba4b-4aee-8ed0-e2fa356561ef",
   "metadata": {},
   "outputs": [],
   "source": [
    "sns.catplot(x=\"how_masculine\",\n",
    "            data=masculinity_data,\n",
    "            kind=\"count\")\n",
    "plt.show()"
   ]
  },
  {
   "cell_type": "code",
   "execution_count": null,
   "id": "73648617-a06c-4600-bad3-400b243dd179",
   "metadata": {},
   "outputs": [],
   "source": [
    "#Specify category order to change the order of displayed data\n",
    "category_order = [\"No answer\",\n",
    "                  \"Not at all\",\n",
    "                  \"Not very\",               \n",
    "                  \"Somewhat\",\n",
    "                  \"Very\"]\n",
    "sns.catplot(x=\"how_masculine\",\n",
    "            data=masculinity_data,\n",
    "            kind=\"count\",\n",
    "            order=category_order)\n",
    "plt.show()"
   ]
  },
  {
   "cell_type": "code",
   "execution_count": null,
   "id": "b95c56e8-d40d-4aca-a5fc-5095eea771e3",
   "metadata": {},
   "outputs": [],
   "source": [
    "# Can turn off confidence intervals on bar plots using ci command \n",
    "# Change bar orientaton by swapping x and y axis referenced cols around\n",
    "\n",
    "sns.catplot(x=\"day\",\n",
    "            y=\"total_bill\",\n",
    "            data=tips,\n",
    "            kind=\"bar\",\n",
    "            ci=None)\n",
    "plt.show()\n"
   ]
  },
  {
   "cell_type": "markdown",
   "id": "e4062b64-8355-4fdc-a491-23f954921b2e",
   "metadata": {},
   "source": [
    "### Box plots"
   ]
  },
  {
   "cell_type": "code",
   "execution_count": null,
   "id": "bb9f79ae-2dea-4a1b-a50b-5628e3d0c22e",
   "metadata": {},
   "outputs": [],
   "source": [
    "sns.catplot(x=\"time\",y=\"total_bill\",\n",
    "            data=tips,\n",
    "            kind=\"box\",\n",
    "            order=[\"Dinner\",\"Lunch\"])\n",
    "plt.show()"
   ]
  },
  {
   "cell_type": "code",
   "execution_count": null,
   "id": "57092035-0748-4220-9fc2-e8f4278f2aba",
   "metadata": {},
   "outputs": [],
   "source": [
    "# Omit outliers using 'sym'\n",
    "sns.catplot(x=\"time\",y=\"total_bill\",\n",
    "            data=tips,\n",
    "            kind=\"box\",\n",
    "            sym=\"\")\n",
    "plt.show()"
   ]
  },
  {
   "cell_type": "markdown",
   "id": "96e9df9c-9100-4d4c-90c0-b147023fea77",
   "metadata": {},
   "source": [
    "Changing the whiskers using`'whis'`\n",
    "\n",
    "- By default, the whiskers extend to 1.5 * the interquartile range\n",
    "- Make them extend to 2.0 * IQR: whis=2.0\n",
    "- Show the 5th and 95th percentiles: whis=[5, 95]\n",
    "- Show min and max values: whis=[0, 100]"
   ]
  },
  {
   "cell_type": "markdown",
   "id": "3987a229-6893-4aa7-a512-ddd80f0c32c4",
   "metadata": {},
   "source": [
    "### Point Plots"
   ]
  },
  {
   "cell_type": "code",
   "execution_count": null,
   "id": "48f31a55-4c0a-418e-a3f7-929c239bd9e5",
   "metadata": {},
   "outputs": [],
   "source": [
    "sns.catplot(x=\"age\",y=\"masculinity_important\",\n",
    "            data=masculinity_data,\n",
    "            hue=\"feel_masculine\",\n",
    "            kind=\"point\")\n",
    "plt.show()"
   ]
  },
  {
   "cell_type": "code",
   "execution_count": null,
   "id": "867ae823-2086-4b99-8cf1-c6283f2bcfbd",
   "metadata": {},
   "outputs": [],
   "source": [
    "# Disconnecting the points\n",
    "sns.catplot(x=\"age\",y=\"masculinity_important\",\n",
    "            data=masculinity_data,\n",
    "            hue=\"feel_masculine\",\n",
    "            kind=\"point\",\n",
    "           Join = False)\n",
    "plt.show()"
   ]
  },
  {
   "cell_type": "markdown",
   "id": "8a0311f5-a648-4129-a7b0-36dcbe41dba2",
   "metadata": {},
   "source": [
    "Additional inputs\n"
   ]
  },
  {
   "cell_type": "code",
   "execution_count": null,
   "id": "ed3d6d59-97c3-4526-8035-5b2a53848d23",
   "metadata": {},
   "outputs": [],
   "source": [
    "# Display the median\n",
    "estimator = 'median'"
   ]
  },
  {
   "cell_type": "code",
   "execution_count": null,
   "id": "5d11d1ec-6c8a-4378-a51f-7c2902f24e12",
   "metadata": {},
   "outputs": [],
   "source": [
    "# Change cap size\n",
    "capsize = 0.2"
   ]
  },
  {
   "cell_type": "code",
   "execution_count": null,
   "id": "12ec701d-291d-4704-a41b-d22a26913dfe",
   "metadata": {},
   "outputs": [],
   "source": [
    "# Turn off confidence intervals \n",
    "ci=None"
   ]
  },
  {
   "cell_type": "markdown",
   "id": "f702a873-3a23-4d78-a132-5ad957fe43e7",
   "metadata": {},
   "source": [
    "# Changing plot style and color \n"
   ]
  },
  {
   "cell_type": "markdown",
   "id": "9207e906-34e5-4e4a-94dc-831446152a96",
   "metadata": {},
   "source": [
    "### Changing the figure style"
   ]
  },
  {
   "cell_type": "code",
   "execution_count": null,
   "id": "e4f5f2ab-3cc5-471f-be17-02afbb9d9a02",
   "metadata": {},
   "outputs": [],
   "source": [
    "# Preset options: \"white\",\"dark\",\"whitegrid\",\"darkgrid\",\"ticks\"\n",
    "\n",
    "sns.set_style()"
   ]
  },
  {
   "cell_type": "markdown",
   "id": "a06fd287-a892-4189-addb-2126cfa28e67",
   "metadata": {},
   "source": [
    "### Changing the palette"
   ]
  },
  {
   "cell_type": "code",
   "execution_count": null,
   "id": "08130219-f73b-4a80-81f3-e8ac9c7b64b2",
   "metadata": {},
   "outputs": [],
   "source": [
    "sns.set_palette()"
   ]
  },
  {
   "cell_type": "code",
   "execution_count": null,
   "id": "8a522d07-3e38-417d-9913-9013151a5d98",
   "metadata": {},
   "outputs": [],
   "source": [
    "# Diverging examples\n",
    "\"RdBu\", \"PRGn\", \"RdBu_r\", \"PRGn_r\""
   ]
  },
  {
   "cell_type": "code",
   "execution_count": null,
   "id": "77ce3c18-4c44-4a57-8d54-7ae8a7990fd9",
   "metadata": {},
   "outputs": [],
   "source": [
    "# Sequential examples\n",
    "\"Greys\", \"Blues\", \"PuRd\", \"GnBu\""
   ]
  },
  {
   "cell_type": "code",
   "execution_count": null,
   "id": "86511f2b-6b30-41a1-b07d-253ec162f461",
   "metadata": {},
   "outputs": [],
   "source": [
    "## Can create your own style usin either colours or their codes\n",
    "custom_palette = [\"red\",\"green\",\"orange\",\"blue\",\"yellow\",\"purple\"]\n",
    "\n",
    "custom_palette = ['#FBB4AE','#B3CDE3','#CCEBC5','#DECBE4','#FED9A6','#FFFFCC','#E5D8BD','#FDDAEC','#F2F2F2']\n",
    "\n",
    "sns.set_palette(custom_palette)"
   ]
  },
  {
   "cell_type": "markdown",
   "id": "9110bb26-a3a6-4a00-80ed-b7fce8cf9d77",
   "metadata": {},
   "source": [
    "### Changing the scale"
   ]
  },
  {
   "cell_type": "code",
   "execution_count": null,
   "id": "ca14259b-d448-44d5-8884-ba5d903d3077",
   "metadata": {},
   "outputs": [],
   "source": [
    "# Changes the size and scale of the plot to suit needs e.g. presentations etc - note Paper is default\n",
    "\n",
    "# From smallest to largest: \"paper\", \"notebook\", \"talk\", \"poster\"\n",
    "\n",
    "sns.set_context()"
   ]
  },
  {
   "cell_type": "markdown",
   "id": "82816e85-1b68-4d0c-af83-05f7c3fb9002",
   "metadata": {},
   "source": [
    "# Adding Titles and labels\n"
   ]
  },
  {
   "cell_type": "markdown",
   "id": "19125e2a-dea0-4027-b57b-cc260938cf03",
   "metadata": {},
   "source": [
    "### Adding titles"
   ]
  },
  {
   "cell_type": "code",
   "execution_count": null,
   "id": "35f5272c-6e23-41ab-8697-b941c588890d",
   "metadata": {},
   "outputs": [],
   "source": [
    "g = sns.catplot(x=\"x\",\n",
    "                y=\"y\",            \n",
    "                data=df,\n",
    "                kind=\"box\")\n",
    "\n",
    "g.fig.suptitle(\"New Title\")"
   ]
  },
  {
   "cell_type": "code",
   "execution_count": null,
   "id": "b8f457d4-eadf-4cce-b661-46e956ab12d8",
   "metadata": {},
   "outputs": [],
   "source": [
    "# You can adjust the height using: \n",
    "g.fig.suptitle(\"New Title\",y=1.03)"
   ]
  },
  {
   "cell_type": "code",
   "execution_count": null,
   "id": "fc5e1d65-564b-437b-8338-77f1ee61fda3",
   "metadata": {},
   "outputs": [],
   "source": [
    "# Adding titles for subplots\n",
    "g.set_titles(\"This is {col_name}\")"
   ]
  },
  {
   "cell_type": "markdown",
   "id": "db5cff90-5856-42cb-88b5-ae8407ac1876",
   "metadata": {},
   "source": [
    "### Axis"
   ]
  },
  {
   "cell_type": "code",
   "execution_count": null,
   "id": "c121e411-8eba-4713-9378-16ae85d3b99e",
   "metadata": {},
   "outputs": [],
   "source": [
    "g.set(xlabel=\"New X Label\", \n",
    "      ylabel=\"New Y Label\")"
   ]
  },
  {
   "cell_type": "code",
   "execution_count": null,
   "id": "e1e3c56e-20cf-4c99-b533-28c295200200",
   "metadata": {},
   "outputs": [],
   "source": [
    "# If you wish to rotate it's the same as matplotlib\n",
    "plt.xticks(rotation=90)"
   ]
  }
 ],
 "metadata": {
  "kernelspec": {
   "display_name": "Python 3",
   "language": "python",
   "name": "python3"
  },
  "language_info": {
   "codemirror_mode": {
    "name": "ipython",
    "version": 3
   },
   "file_extension": ".py",
   "mimetype": "text/x-python",
   "name": "python",
   "nbconvert_exporter": "python",
   "pygments_lexer": "ipython3",
   "version": "3.8.8"
  }
 },
 "nbformat": 4,
 "nbformat_minor": 5
}
